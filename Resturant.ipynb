{
 "cells": [
  {
   "cell_type": "code",
   "execution_count": 1,
   "id": "df36c6a4",
   "metadata": {},
   "outputs": [],
   "source": [
    "import pandas as pd\n",
    "import numpy as np\n",
    "from sklearn.model_selection import train_test_split\n",
    "from sklearn.preprocessing import LabelEncoder, StandardScaler\n",
    "from sklearn.tree import DecisionTreeRegressor\n",
    "from sklearn.neighbors import KNeighborsRegressor\n",
    "from sklearn.metrics import mean_absolute_error, mean_squared_error"
   ]
  },
  {
   "cell_type": "code",
   "execution_count": 2,
   "id": "10a57869",
   "metadata": {},
   "outputs": [],
   "source": [
    "# Load dataset\n",
    "df = pd.read_csv('Restaurant_revenue.csv')\n"
   ]
  },
  {
   "cell_type": "code",
   "execution_count": 3,
   "id": "55012463",
   "metadata": {},
   "outputs": [
    {
     "name": "stdout",
     "output_type": "stream",
     "text": [
      "   Number_of_Customers  Menu_Price  Marketing_Spend Cuisine_Type  \\\n",
      "0                   61   43.117635        12.663793     Japanese   \n",
      "1                   24   40.020077         4.577892      Italian   \n",
      "2                   81   41.981485         4.652911     Japanese   \n",
      "3                   70   43.005307         4.416053      Italian   \n",
      "4                   30   17.456199         3.475052      Italian   \n",
      "\n",
      "   Average_Customer_Spending  Promotions  Reviews  Monthly_Revenue  \n",
      "0                  36.236133           0       45       350.912040  \n",
      "1                  17.952562           0       36       221.319091  \n",
      "2                  22.600420           1       91       326.529763  \n",
      "3                  18.984098           1       59       348.190573  \n",
      "4                  12.766143           1       30       185.009121  \n"
     ]
    }
   ],
   "source": [
    "# Display the first few rows of the dataset\n",
    "print(df.head())"
   ]
  },
  {
   "cell_type": "code",
   "execution_count": 4,
   "id": "6321eb36",
   "metadata": {},
   "outputs": [],
   "source": [
    "# Encode categorical variables\n",
    "label_encoders = {}\n",
    "for column in df.select_dtypes(include=['object']).columns:\n",
    "    le = LabelEncoder()\n",
    "    df[column] = le.fit_transform(df[column])\n",
    "    label_encoders[column] = le"
   ]
  },
  {
   "cell_type": "code",
   "execution_count": 5,
   "id": "b2c89866",
   "metadata": {},
   "outputs": [],
   "source": [
    "# Preprocess the dataset\n",
    "# Handle missing values if any\n",
    "df.fillna(method='ffill', inplace=True)\n",
    "\n",
    "X = df.drop('Monthly_Revenue', axis=1)\n",
    "y = df['Monthly_Revenue']"
   ]
  },
  {
   "cell_type": "code",
   "execution_count": 6,
   "id": "84bd5bbe",
   "metadata": {},
   "outputs": [],
   "source": [
    "# Split the data into training and test sets\n",
    "X_train, X_test, y_train, y_test = train_test_split(X, y, test_size=0.2, random_state=42)"
   ]
  },
  {
   "cell_type": "code",
   "execution_count": 7,
   "id": "6fe650e3",
   "metadata": {},
   "outputs": [],
   "source": [
    "# Scale the features\n",
    "scaler = StandardScaler()\n",
    "X_train = scaler.fit_transform(X_train)\n",
    "X_test = scaler.transform(X_test)"
   ]
  },
  {
   "cell_type": "code",
   "execution_count": 8,
   "id": "57e32633",
   "metadata": {},
   "outputs": [],
   "source": [
    "# Train and evaluate Decision Tree model\n",
    "dt_model = DecisionTreeRegressor(random_state=42)\n",
    "dt_model.fit(X_train, y_train)\n",
    "y_pred_dt = dt_model.predict(X_test)"
   ]
  },
  {
   "cell_type": "code",
   "execution_count": 9,
   "id": "87e6ed21",
   "metadata": {},
   "outputs": [
    {
     "name": "stdout",
     "output_type": "stream",
     "text": [
      "Decision Tree MAE: 71.43678489215324\n",
      "Decision Tree RMSE: 87.14453462032287\n"
     ]
    }
   ],
   "source": [
    "# Calculate evaluation metrics for Decision Tree\n",
    "mae_dt = mean_absolute_error(y_test, y_pred_dt)\n",
    "rmse_dt = np.sqrt(mean_squared_error(y_test, y_pred_dt))\n",
    "print(f\"Decision Tree MAE: {mae_dt}\")\n",
    "print(f\"Decision Tree RMSE: {rmse_dt}\")"
   ]
  },
  {
   "cell_type": "code",
   "execution_count": 10,
   "id": "ac47f2de",
   "metadata": {},
   "outputs": [],
   "source": [
    "# Train and evaluate Nearest Neighbor model\n",
    "knn_model = KNeighborsRegressor(n_neighbors=5)\n",
    "knn_model.fit(X_train, y_train)\n",
    "y_pred_knn = knn_model.predict(X_test)"
   ]
  },
  {
   "cell_type": "code",
   "execution_count": 11,
   "id": "f12ffd5d",
   "metadata": {},
   "outputs": [
    {
     "name": "stdout",
     "output_type": "stream",
     "text": [
      "Nearest Neighbor MAE: 55.27671957613795\n",
      "Nearest Neighbor RMSE: 69.03173966742676\n"
     ]
    }
   ],
   "source": [
    "# Calculate evaluation metrics for Nearest Neighbor\n",
    "mae_knn = mean_absolute_error(y_test, y_pred_knn)\n",
    "rmse_knn = np.sqrt(mean_squared_error(y_test, y_pred_knn))\n",
    "print(f\"Nearest Neighbor MAE: {mae_knn}\")\n",
    "print(f\"Nearest Neighbor RMSE: {rmse_knn}\")\n"
   ]
  },
  {
   "cell_type": "code",
   "execution_count": 12,
   "id": "d65bae80",
   "metadata": {},
   "outputs": [
    {
     "name": "stdout",
     "output_type": "stream",
     "text": [
      "Comparative Analysis:\n",
      "Decision Tree - MAE: 71.43678489215324, RMSE: 87.14453462032287\n",
      "Nearest Neighbor - MAE: 55.27671957613795, RMSE: 69.03173966742676\n"
     ]
    }
   ],
   "source": [
    "# Comparative analysis\n",
    "print(f\"Comparative Analysis:\")\n",
    "print(f\"Decision Tree - MAE: {mae_dt}, RMSE: {rmse_dt}\")\n",
    "print(f\"Nearest Neighbor - MAE: {mae_knn}, RMSE: {rmse_knn}\")"
   ]
  },
  {
   "cell_type": "code",
   "execution_count": null,
   "id": "6dd97c73",
   "metadata": {},
   "outputs": [],
   "source": []
  }
 ],
 "metadata": {
  "kernelspec": {
   "display_name": "Python 3 (ipykernel)",
   "language": "python",
   "name": "python3"
  },
  "language_info": {
   "codemirror_mode": {
    "name": "ipython",
    "version": 3
   },
   "file_extension": ".py",
   "mimetype": "text/x-python",
   "name": "python",
   "nbconvert_exporter": "python",
   "pygments_lexer": "ipython3",
   "version": "3.9.13"
  }
 },
 "nbformat": 4,
 "nbformat_minor": 5
}
